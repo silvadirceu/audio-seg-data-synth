{
 "cells": [
  {
   "cell_type": "code",
   "execution_count": 17,
   "metadata": {},
   "outputs": [
    {
     "ename": "ModuleNotFoundError",
     "evalue": "No module named 'models'",
     "output_type": "error",
     "traceback": [
      "\u001b[0;31m---------------------------------------------------------------------------\u001b[0m",
      "\u001b[0;31mModuleNotFoundError\u001b[0m                       Traceback (most recent call last)",
      "Cell \u001b[0;32mIn[17], line 4\u001b[0m\n\u001b[1;32m      2\u001b[0m \u001b[38;5;28;01mimport\u001b[39;00m \u001b[38;5;21;01mkeras\u001b[39;00m\n\u001b[1;32m      3\u001b[0m \u001b[38;5;28;01mimport\u001b[39;00m \u001b[38;5;21;01mopenvino\u001b[39;00m \u001b[38;5;28;01mas\u001b[39;00m \u001b[38;5;21;01mov\u001b[39;00m\n\u001b[0;32m----> 4\u001b[0m \u001b[38;5;28;01mfrom\u001b[39;00m \u001b[38;5;21;01mmodels\u001b[39;00m\u001b[38;5;21;01m.\u001b[39;00m\u001b[38;5;21;01mmusicspeech_class\u001b[39;00m \u001b[38;5;28;01mimport\u001b[39;00m MusicSpeechClass\n\u001b[1;32m      5\u001b[0m \u001b[38;5;28;01mfrom\u001b[39;00m \u001b[38;5;21;01mmodels\u001b[39;00m\u001b[38;5;21;01m.\u001b[39;00m\u001b[38;5;21;01mmusicspeech_params\u001b[39;00m \u001b[38;5;28;01mimport\u001b[39;00m MusicSpeech_Params \u001b[38;5;28;01mas\u001b[39;00m music_speech_params\n",
      "\u001b[0;31mModuleNotFoundError\u001b[0m: No module named 'models'"
     ]
    }
   ],
   "source": [
    "import tensorflow as tf\n",
    "import keras\n",
    "import openvino as ov\n",
    "from musicspeech_class import MusicSpeechClass\n",
    "from musicspeech_params import MusicSpeech_Params as music_speech_params"
   ]
  },
  {
   "cell_type": "code",
   "execution_count": 14,
   "metadata": {},
   "outputs": [],
   "source": [
    "musicspeech = MusicSpeechClass(music_speech_params)\n",
    "model = musicspeech.model"
   ]
  },
  {
   "cell_type": "code",
   "execution_count": 6,
   "metadata": {},
   "outputs": [
    {
     "name": "stderr",
     "output_type": "stream",
     "text": [
      "WARNING:absl:Found untraced functions such as _jit_compiled_convolution_op, _jit_compiled_convolution_op, gru_cell_7_layer_call_fn, gru_cell_7_layer_call_and_return_conditional_losses, gru_cell_8_layer_call_fn while saving (showing 5 of 10). These functions will not be directly callable after loading.\n"
     ]
    },
    {
     "name": "stdout",
     "output_type": "stream",
     "text": [
      "INFO:tensorflow:Assets written to: tf/assets\n"
     ]
    },
    {
     "name": "stderr",
     "output_type": "stream",
     "text": [
      "INFO:tensorflow:Assets written to: tf/assets\n"
     ]
    }
   ],
   "source": [
    "keras.models.save_model(model, \"tf\")"
   ]
  },
  {
   "cell_type": "code",
   "execution_count": 15,
   "metadata": {},
   "outputs": [
    {
     "ename": "RuntimeError",
     "evalue": "Check '!dim::is_empty(minus_one_dim)' failed at src/core/shape_inference/include/reshape_shape_inference.hpp:343:\nWhile validating node 'opset1::Reshape functional_3/time_distributed_1/Reshape_1 (opset1::Sigmoid functional_3/time_distributed_1/dense_1/Sigmoid[0]:f32[1,2], opset1::Constant functional_3/time_distributed_1/Reshape_1/shape[0]:i32[3]) -> (f32[?,802,2])' with friendly_name 'functional_3/time_distributed_1/Reshape_1':\nNon-'-1' output dimensions do not evenly divide the input dimensions\n",
     "output_type": "error",
     "traceback": [
      "\u001b[0;31m---------------------------------------------------------------------------\u001b[0m",
      "\u001b[0;31mRuntimeError\u001b[0m                              Traceback (most recent call last)",
      "Cell \u001b[0;32mIn[15], line 1\u001b[0m\n\u001b[0;32m----> 1\u001b[0m ov_model \u001b[38;5;241m=\u001b[39m \u001b[43mov\u001b[49m\u001b[38;5;241;43m.\u001b[39;49m\u001b[43mconvert_model\u001b[49m\u001b[43m(\u001b[49m\u001b[43mmodel\u001b[49m\u001b[43m)\u001b[49m\n\u001b[1;32m      2\u001b[0m ov\u001b[38;5;241m.\u001b[39msave_model(ov_model, \u001b[38;5;124m\"\u001b[39m\u001b[38;5;124mopenvino/saved_model.xml\u001b[39m\u001b[38;5;124m\"\u001b[39m)\n",
      "File \u001b[0;32m~/miniconda3/envs/keras2/lib/python3.9/site-packages/openvino/tools/ovc/convert.py:100\u001b[0m, in \u001b[0;36mconvert_model\u001b[0;34m(input_model, input, output, example_input, extension, verbose, share_weights)\u001b[0m\n\u001b[1;32m     98\u001b[0m logger_state \u001b[38;5;241m=\u001b[39m get_logger_state()\n\u001b[1;32m     99\u001b[0m cli_parser \u001b[38;5;241m=\u001b[39m get_all_cli_parser()\n\u001b[0;32m--> 100\u001b[0m ov_model, _ \u001b[38;5;241m=\u001b[39m \u001b[43m_convert\u001b[49m\u001b[43m(\u001b[49m\u001b[43mcli_parser\u001b[49m\u001b[43m,\u001b[49m\u001b[43m \u001b[49m\u001b[43mparams\u001b[49m\u001b[43m,\u001b[49m\u001b[43m \u001b[49m\u001b[38;5;28;43;01mTrue\u001b[39;49;00m\u001b[43m)\u001b[49m\n\u001b[1;32m    101\u001b[0m restore_logger_state(logger_state)\n\u001b[1;32m    102\u001b[0m \u001b[38;5;28;01mreturn\u001b[39;00m ov_model\n",
      "File \u001b[0;32m~/miniconda3/envs/keras2/lib/python3.9/site-packages/openvino/tools/ovc/convert_impl.py:535\u001b[0m, in \u001b[0;36m_convert\u001b[0;34m(cli_parser, args, python_api_used)\u001b[0m\n\u001b[1;32m    533\u001b[0m send_conversion_result(\u001b[38;5;124m'\u001b[39m\u001b[38;5;124mfail\u001b[39m\u001b[38;5;124m'\u001b[39m)\n\u001b[1;32m    534\u001b[0m \u001b[38;5;28;01mif\u001b[39;00m python_api_used:\n\u001b[0;32m--> 535\u001b[0m     \u001b[38;5;28;01mraise\u001b[39;00m e\n\u001b[1;32m    536\u001b[0m \u001b[38;5;28;01melse\u001b[39;00m:\n\u001b[1;32m    537\u001b[0m     \u001b[38;5;28;01mreturn\u001b[39;00m \u001b[38;5;28;01mNone\u001b[39;00m, argv\n",
      "File \u001b[0;32m~/miniconda3/envs/keras2/lib/python3.9/site-packages/openvino/tools/ovc/convert_impl.py:477\u001b[0m, in \u001b[0;36m_convert\u001b[0;34m(cli_parser, args, python_api_used)\u001b[0m\n\u001b[1;32m    473\u001b[0m argv\u001b[38;5;241m.\u001b[39mis_python_api_used \u001b[38;5;241m=\u001b[39m python_api_used\n\u001b[1;32m    475\u001b[0m argv\u001b[38;5;241m.\u001b[39mframework \u001b[38;5;241m=\u001b[39m model_framework\n\u001b[0;32m--> 477\u001b[0m ov_model \u001b[38;5;241m=\u001b[39m \u001b[43mdriver\u001b[49m\u001b[43m(\u001b[49m\u001b[43margv\u001b[49m\u001b[43m,\u001b[49m\u001b[43m \u001b[49m\u001b[43m{\u001b[49m\u001b[38;5;124;43m\"\u001b[39;49m\u001b[38;5;124;43mconversion_parameters\u001b[39;49m\u001b[38;5;124;43m\"\u001b[39;49m\u001b[43m:\u001b[49m\u001b[43m \u001b[49m\u001b[43mnon_default_params\u001b[49m\u001b[43m}\u001b[49m\u001b[43m)\u001b[49m\n\u001b[1;32m    479\u001b[0m \u001b[38;5;28;01mif\u001b[39;00m inp_model_is_object \u001b[38;5;129;01mand\u001b[39;00m model_framework \u001b[38;5;241m==\u001b[39m \u001b[38;5;124m\"\u001b[39m\u001b[38;5;124mpaddle\u001b[39m\u001b[38;5;124m\"\u001b[39m:\n\u001b[1;32m    480\u001b[0m     \u001b[38;5;28;01mif\u001b[39;00m paddle_runtime_converter:\n",
      "File \u001b[0;32m~/miniconda3/envs/keras2/lib/python3.9/site-packages/openvino/tools/ovc/convert_impl.py:228\u001b[0m, in \u001b[0;36mdriver\u001b[0;34m(argv, non_default_params)\u001b[0m\n\u001b[1;32m    225\u001b[0m \u001b[38;5;66;03m# Log dictionary with non-default cli parameters where complex classes are excluded.\u001b[39;00m\n\u001b[1;32m    226\u001b[0m log\u001b[38;5;241m.\u001b[39mdebug(\u001b[38;5;28mstr\u001b[39m(non_default_params))\n\u001b[0;32m--> 228\u001b[0m ov_model \u001b[38;5;241m=\u001b[39m moc_emit_ir(\u001b[43mprepare_ir\u001b[49m\u001b[43m(\u001b[49m\u001b[43margv\u001b[49m\u001b[43m)\u001b[49m, argv)\n\u001b[1;32m    230\u001b[0m \u001b[38;5;28;01mreturn\u001b[39;00m ov_model\n",
      "File \u001b[0;32m~/miniconda3/envs/keras2/lib/python3.9/site-packages/openvino/tools/ovc/convert_impl.py:177\u001b[0m, in \u001b[0;36mprepare_ir\u001b[0;34m(argv)\u001b[0m\n\u001b[1;32m    175\u001b[0m         \u001b[38;5;28;01mfor\u001b[39;00m extension \u001b[38;5;129;01min\u001b[39;00m argv\u001b[38;5;241m.\u001b[39mextension:\n\u001b[1;32m    176\u001b[0m             moc_front_end\u001b[38;5;241m.\u001b[39madd_extension(extension)\n\u001b[0;32m--> 177\u001b[0m     ov_model \u001b[38;5;241m=\u001b[39m \u001b[43mmoc_pipeline\u001b[49m\u001b[43m(\u001b[49m\u001b[43margv\u001b[49m\u001b[43m,\u001b[49m\u001b[43m \u001b[49m\u001b[43mmoc_front_end\u001b[49m\u001b[43m)\u001b[49m\n\u001b[1;32m    178\u001b[0m     \u001b[38;5;28;01mreturn\u001b[39;00m ov_model\n\u001b[1;32m    180\u001b[0m \u001b[38;5;28;01mif\u001b[39;00m \u001b[38;5;129;01mnot\u001b[39;00m argv\u001b[38;5;241m.\u001b[39minput_model:\n",
      "File \u001b[0;32m~/miniconda3/envs/keras2/lib/python3.9/site-packages/openvino/tools/ovc/moc_frontend/pipeline.py:244\u001b[0m, in \u001b[0;36mmoc_pipeline\u001b[0;34m(argv, moc_front_end)\u001b[0m\n\u001b[1;32m    241\u001b[0m \u001b[38;5;28;01mdef\u001b[39;00m \u001b[38;5;21mshape_to_array\u001b[39m(shape: PartialShape):\n\u001b[1;32m    242\u001b[0m     \u001b[38;5;28;01mreturn\u001b[39;00m [shape\u001b[38;5;241m.\u001b[39mget_dimension(i) \u001b[38;5;28;01mfor\u001b[39;00m i \u001b[38;5;129;01min\u001b[39;00m \u001b[38;5;28mrange\u001b[39m(shape\u001b[38;5;241m.\u001b[39mrank\u001b[38;5;241m.\u001b[39mget_length())]\n\u001b[0;32m--> 244\u001b[0m ov_model \u001b[38;5;241m=\u001b[39m \u001b[43mmoc_front_end\u001b[49m\u001b[38;5;241;43m.\u001b[39;49m\u001b[43mconvert\u001b[49m\u001b[43m(\u001b[49m\u001b[43minput_model\u001b[49m\u001b[43m)\u001b[49m\n\u001b[1;32m    246\u001b[0m \u001b[38;5;28;01mreturn\u001b[39;00m ov_model\n",
      "File \u001b[0;32m~/miniconda3/envs/keras2/lib/python3.9/site-packages/openvino/frontend/frontend.py:18\u001b[0m, in \u001b[0;36mFrontEnd.convert\u001b[0;34m(self, model)\u001b[0m\n\u001b[1;32m     17\u001b[0m \u001b[38;5;28;01mdef\u001b[39;00m \u001b[38;5;21mconvert\u001b[39m(\u001b[38;5;28mself\u001b[39m, model: Union[Model, InputModel]) \u001b[38;5;241m-\u001b[39m\u001b[38;5;241m>\u001b[39m Model:\n\u001b[0;32m---> 18\u001b[0m     converted_model \u001b[38;5;241m=\u001b[39m \u001b[38;5;28;43msuper\u001b[39;49m\u001b[43m(\u001b[49m\u001b[43m)\u001b[49m\u001b[38;5;241;43m.\u001b[39;49m\u001b[43mconvert\u001b[49m\u001b[43m(\u001b[49m\u001b[43mmodel\u001b[49m\u001b[43m)\u001b[49m\n\u001b[1;32m     19\u001b[0m     \u001b[38;5;28;01mif\u001b[39;00m \u001b[38;5;28misinstance\u001b[39m(model, InputModel):\n\u001b[1;32m     20\u001b[0m         \u001b[38;5;28;01mreturn\u001b[39;00m Model(converted_model)\n",
      "\u001b[0;31mRuntimeError\u001b[0m: Check '!dim::is_empty(minus_one_dim)' failed at src/core/shape_inference/include/reshape_shape_inference.hpp:343:\nWhile validating node 'opset1::Reshape functional_3/time_distributed_1/Reshape_1 (opset1::Sigmoid functional_3/time_distributed_1/dense_1/Sigmoid[0]:f32[1,2], opset1::Constant functional_3/time_distributed_1/Reshape_1/shape[0]:i32[3]) -> (f32[?,802,2])' with friendly_name 'functional_3/time_distributed_1/Reshape_1':\nNon-'-1' output dimensions do not evenly divide the input dimensions\n"
     ]
    }
   ],
   "source": [
    "ov_model = ov.convert_model(model)\n",
    "ov.save_model(ov_model, \"openvino/saved_model.xml\")"
   ]
  }
 ],
 "metadata": {
  "kernelspec": {
   "display_name": "keras2",
   "language": "python",
   "name": "python3"
  },
  "language_info": {
   "codemirror_mode": {
    "name": "ipython",
    "version": 3
   },
   "file_extension": ".py",
   "mimetype": "text/x-python",
   "name": "python",
   "nbconvert_exporter": "python",
   "pygments_lexer": "ipython3",
   "version": "3.9.19"
  }
 },
 "nbformat": 4,
 "nbformat_minor": 2
}
