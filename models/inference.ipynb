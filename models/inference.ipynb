{
 "cells": [
  {
   "cell_type": "code",
   "execution_count": 1,
   "metadata": {},
   "outputs": [
    {
     "name": "stdout",
     "output_type": "stream",
     "text": [
      "Processing /home/lennon/workspace/audio-seg-data-synth/packages/hermes-0.1.tar.gz\n",
      "  Preparing metadata (setup.py) ... \u001b[?25ldone\n",
      "\u001b[?25hRequirement already satisfied: tritonclient in /home/lennon/miniconda3/envs/testopia/lib/python3.9/site-packages (from hermes==0.1) (2.43.0)\n",
      "Requirement already satisfied: ovmsclient in /home/lennon/miniconda3/envs/testopia/lib/python3.9/site-packages (from hermes==0.1) (2023.1)\n",
      "Requirement already satisfied: grpcio>=1.47.0 in /home/lennon/miniconda3/envs/testopia/lib/python3.9/site-packages (from ovmsclient->hermes==0.1) (1.62.1)\n",
      "Requirement already satisfied: numpy>=1.16.6 in /home/lennon/miniconda3/envs/testopia/lib/python3.9/site-packages (from ovmsclient->hermes==0.1) (1.26.4)\n",
      "Requirement already satisfied: protobuf>=3.19.4 in /home/lennon/miniconda3/envs/testopia/lib/python3.9/site-packages (from ovmsclient->hermes==0.1) (3.20.3)\n",
      "Requirement already satisfied: requests>=2.27.1 in /home/lennon/miniconda3/envs/testopia/lib/python3.9/site-packages (from ovmsclient->hermes==0.1) (2.31.0)\n",
      "Requirement already satisfied: python-rapidjson>=0.9.1 in /home/lennon/miniconda3/envs/testopia/lib/python3.9/site-packages (from tritonclient->hermes==0.1) (1.16)\n",
      "Requirement already satisfied: urllib3>=2.0.7 in /home/lennon/miniconda3/envs/testopia/lib/python3.9/site-packages (from tritonclient->hermes==0.1) (2.2.1)\n",
      "Requirement already satisfied: charset-normalizer<4,>=2 in /home/lennon/miniconda3/envs/testopia/lib/python3.9/site-packages (from requests>=2.27.1->ovmsclient->hermes==0.1) (3.3.2)\n",
      "Requirement already satisfied: idna<4,>=2.5 in /home/lennon/miniconda3/envs/testopia/lib/python3.9/site-packages (from requests>=2.27.1->ovmsclient->hermes==0.1) (3.6)\n",
      "Requirement already satisfied: certifi>=2017.4.17 in /home/lennon/miniconda3/envs/testopia/lib/python3.9/site-packages (from requests>=2.27.1->ovmsclient->hermes==0.1) (2024.2.2)\n",
      "Building wheels for collected packages: hermes\n",
      "  Building wheel for hermes (setup.py) ... \u001b[?25ldone\n",
      "\u001b[?25h  Created wheel for hermes: filename=hermes-0.1-py3-none-any.whl size=3453 sha256=19d1f99ee9415a600885d5a43ebd2fa2337e32e57c29714914b8faab7164aded\n",
      "  Stored in directory: /home/lennon/.cache/pip/wheels/62/26/ad/3afcad542b2d63dc002af3a8213046c04219d1a4d2081f77eb\n",
      "Successfully built hermes\n",
      "Installing collected packages: hermes\n",
      "Successfully installed hermes-0.1\n"
     ]
    }
   ],
   "source": [
    "!pip install ../packages/hermes-0.1.tar.gz"
   ]
  },
  {
   "cell_type": "code",
   "execution_count": 1,
   "metadata": {},
   "outputs": [
    {
     "name": "stderr",
     "output_type": "stream",
     "text": [
      "2024-04-15 08:13:28.194015: I tensorflow/core/platform/cpu_feature_guard.cc:210] This TensorFlow binary is optimized to use available CPU instructions in performance-critical operations.\n",
      "To enable the following instructions: AVX2 FMA, in other operations, rebuild TensorFlow with the appropriate compiler flags.\n",
      "2024-04-15 08:13:28.810303: W tensorflow/compiler/tf2tensorrt/utils/py_utils.cc:38] TF-TRT Warning: Could not find TensorRT\n"
     ]
    }
   ],
   "source": [
    "from hermes.triton.client import TritonClient\n",
    "from hermes.openvino.client import OpenVinoClient\n",
    "from musicspeech_class import MusicSpeechClass\n",
    "from musicspeech_controller import MusicSpeechController\n",
    "from musicspeech_params import MusicSpeech_Params as music_speech_params"
   ]
  },
  {
   "cell_type": "markdown",
   "metadata": {},
   "source": [
    "## Local"
   ]
  },
  {
   "cell_type": "code",
   "execution_count": 2,
   "metadata": {},
   "outputs": [],
   "source": [
    "input_path = \"/home/lennon/workspace/audio-seg-data-synth/audio/Song.wav\"\n",
    "output_path = \"/home/lennon/workspace/audio-seg-data-synth/audio/Song-local.txt\""
   ]
  },
  {
   "cell_type": "code",
   "execution_count": 3,
   "metadata": {},
   "outputs": [],
   "source": [
    "client = MusicSpeechClass(params=music_speech_params)"
   ]
  },
  {
   "cell_type": "code",
   "execution_count": 4,
   "metadata": {},
   "outputs": [],
   "source": [
    "controller = MusicSpeechController(client=client, params=music_speech_params)"
   ]
  },
  {
   "cell_type": "code",
   "execution_count": 5,
   "metadata": {},
   "outputs": [
    {
     "name": "stdout",
     "output_type": "stream",
     "text": [
      "audio_clip_length_samples is 6154050\n",
      "(32, 802, 80)\n"
     ]
    },
    {
     "ename": "TypeError",
     "evalue": "predict() got an unexpected keyword argument 'timeout'",
     "output_type": "error",
     "traceback": [
      "\u001b[0;31m---------------------------------------------------------------------------\u001b[0m",
      "\u001b[0;31mTypeError\u001b[0m                                 Traceback (most recent call last)",
      "Cell \u001b[0;32mIn[5], line 1\u001b[0m\n\u001b[0;32m----> 1\u001b[0m segments \u001b[38;5;241m=\u001b[39m \u001b[43mcontroller\u001b[49m\u001b[38;5;241;43m.\u001b[39;49m\u001b[43mpredict\u001b[49m\u001b[43m(\u001b[49m\u001b[43minput_path\u001b[49m\u001b[43m)\u001b[49m\n\u001b[1;32m      3\u001b[0m \u001b[38;5;28;01mwith\u001b[39;00m \u001b[38;5;28mopen\u001b[39m(output_path, \u001b[38;5;124m'\u001b[39m\u001b[38;5;124mw\u001b[39m\u001b[38;5;124m'\u001b[39m) \u001b[38;5;28;01mas\u001b[39;00m fp:\n\u001b[1;32m      4\u001b[0m     fp\u001b[38;5;241m.\u001b[39mwrite(\u001b[38;5;124m'\u001b[39m\u001b[38;5;130;01m\\n\u001b[39;00m\u001b[38;5;124m'\u001b[39m\u001b[38;5;241m.\u001b[39mjoin(\u001b[38;5;124m'\u001b[39m\u001b[38;5;132;01m{}\u001b[39;00m\u001b[38;5;130;01m\\t\u001b[39;00m\u001b[38;5;132;01m{}\u001b[39;00m\u001b[38;5;130;01m\\t\u001b[39;00m\u001b[38;5;132;01m{}\u001b[39;00m\u001b[38;5;124m'\u001b[39m\u001b[38;5;241m.\u001b[39mformat(\u001b[38;5;28mround\u001b[39m(x[\u001b[38;5;241m0\u001b[39m], \u001b[38;5;241m5\u001b[39m), \u001b[38;5;28mround\u001b[39m(x[\u001b[38;5;241m1\u001b[39m], \u001b[38;5;241m5\u001b[39m), x[\u001b[38;5;241m2\u001b[39m]) \u001b[38;5;28;01mfor\u001b[39;00m x \u001b[38;5;129;01min\u001b[39;00m segments))\n",
      "File \u001b[0;32m~/workspace/audio-seg-data-synth/models/musicspeech_controller.py:283\u001b[0m, in \u001b[0;36mMusicSpeechController.predict\u001b[0;34m(self, input_data, fs)\u001b[0m\n\u001b[1;32m    278\u001b[0m \u001b[38;5;28;01mif\u001b[39;00m fs \u001b[38;5;241m!=\u001b[39m \u001b[38;5;28mself\u001b[39m\u001b[38;5;241m.\u001b[39mparams\u001b[38;5;241m.\u001b[39msample_rate:\n\u001b[1;32m    279\u001b[0m     input_data \u001b[38;5;241m=\u001b[39m librosa\u001b[38;5;241m.\u001b[39mresample(\n\u001b[1;32m    280\u001b[0m         input_data, orig_sr\u001b[38;5;241m=\u001b[39mfs, target_sr\u001b[38;5;241m=\u001b[39m\u001b[38;5;28mself\u001b[39m\u001b[38;5;241m.\u001b[39mparams\u001b[38;5;241m.\u001b[39msample_rate\n\u001b[1;32m    281\u001b[0m     )\n\u001b[0;32m--> 283\u001b[0m oop \u001b[38;5;241m=\u001b[39m \u001b[38;5;28;43mself\u001b[39;49m\u001b[38;5;241;43m.\u001b[39;49m\u001b[43mmk_preds_fa\u001b[49m\u001b[43m(\u001b[49m\u001b[43minput_data\u001b[49m\u001b[43m)\u001b[49m\n\u001b[1;32m    285\u001b[0m p_smooth \u001b[38;5;241m=\u001b[39m \u001b[38;5;28mself\u001b[39m\u001b[38;5;241m.\u001b[39msmooth_output(\n\u001b[1;32m    286\u001b[0m     oop\u001b[38;5;241m.\u001b[39mT,\n\u001b[1;32m    287\u001b[0m     min_speech\u001b[38;5;241m=\u001b[39m\u001b[38;5;241m1.3\u001b[39m,\n\u001b[0;32m   (...)\u001b[0m\n\u001b[1;32m    290\u001b[0m     max_silence_music\u001b[38;5;241m=\u001b[39m\u001b[38;5;241m0.6\u001b[39m,\n\u001b[1;32m    291\u001b[0m )\n\u001b[1;32m    292\u001b[0m p_smooth \u001b[38;5;241m=\u001b[39m p_smooth\u001b[38;5;241m.\u001b[39mT\n",
      "File \u001b[0;32m~/workspace/audio-seg-data-synth/models/musicspeech_controller.py:223\u001b[0m, in \u001b[0;36mMusicSpeechController.mk_preds_fa\u001b[0;34m(self, in_signal, hop_size, discard, win_length, sampling_rate)\u001b[0m\n\u001b[1;32m    219\u001b[0m     mss_batch[j, :, :] \u001b[38;5;241m=\u001b[39m M\n\u001b[1;32m    221\u001b[0m \u001b[38;5;28mprint\u001b[39m(mss_batch\u001b[38;5;241m.\u001b[39mshape)\n\u001b[0;32m--> 223\u001b[0m prediction \u001b[38;5;241m=\u001b[39m \u001b[38;5;28;43mself\u001b[39;49m\u001b[38;5;241;43m.\u001b[39;49m\u001b[43mclient\u001b[49m\u001b[38;5;241;43m.\u001b[39;49m\u001b[43mpredict\u001b[49m\u001b[43m(\u001b[49m\u001b[43mmss_batch\u001b[49m\u001b[43m,\u001b[49m\u001b[43m \u001b[49m\u001b[43mtimeout\u001b[49m\u001b[38;5;241;43m=\u001b[39;49m\u001b[38;5;241;43m20000\u001b[39;49m\u001b[43m)\u001b[49m[\u001b[38;5;28mself\u001b[39m\u001b[38;5;241m.\u001b[39moutput_name]\n\u001b[1;32m    224\u001b[0m preds[i \u001b[38;5;241m*\u001b[39m batch_size : (i \u001b[38;5;241m+\u001b[39m \u001b[38;5;241m1\u001b[39m) \u001b[38;5;241m*\u001b[39m batch_size, :, :] \u001b[38;5;241m=\u001b[39m (\n\u001b[1;32m    225\u001b[0m     prediction \u001b[38;5;241m>\u001b[39m\u001b[38;5;241m=\u001b[39m \u001b[38;5;28mself\u001b[39m\u001b[38;5;241m.\u001b[39mthreshold\n\u001b[1;32m    226\u001b[0m )\u001b[38;5;241m.\u001b[39mastype(\u001b[38;5;28mfloat\u001b[39m)\n\u001b[1;32m    228\u001b[0m \u001b[38;5;66;03m# prediction = self.client.predict([mss_batch], timeout=20000)[self.output_name]\u001b[39;00m\n\u001b[1;32m    229\u001b[0m \u001b[38;5;66;03m# preds[i * batch_size : (i + 1) * batch_size, :, :] = (\u001b[39;00m\n\u001b[1;32m    230\u001b[0m \u001b[38;5;66;03m#     prediction >= threshold\u001b[39;00m\n\u001b[1;32m    231\u001b[0m \u001b[38;5;66;03m# ).astype(float)\u001b[39;00m\n",
      "File \u001b[0;32m~/miniconda3/envs/testopia/lib/python3.9/site-packages/keras/src/utils/traceback_utils.py:122\u001b[0m, in \u001b[0;36mfilter_traceback.<locals>.error_handler\u001b[0;34m(*args, **kwargs)\u001b[0m\n\u001b[1;32m    119\u001b[0m     filtered_tb \u001b[38;5;241m=\u001b[39m _process_traceback_frames(e\u001b[38;5;241m.\u001b[39m__traceback__)\n\u001b[1;32m    120\u001b[0m     \u001b[38;5;66;03m# To get the full stack trace, call:\u001b[39;00m\n\u001b[1;32m    121\u001b[0m     \u001b[38;5;66;03m# `keras.config.disable_traceback_filtering()`\u001b[39;00m\n\u001b[0;32m--> 122\u001b[0m     \u001b[38;5;28;01mraise\u001b[39;00m e\u001b[38;5;241m.\u001b[39mwith_traceback(filtered_tb) \u001b[38;5;28;01mfrom\u001b[39;00m \u001b[38;5;28;01mNone\u001b[39;00m\n\u001b[1;32m    123\u001b[0m \u001b[38;5;28;01mfinally\u001b[39;00m:\n\u001b[1;32m    124\u001b[0m     \u001b[38;5;28;01mdel\u001b[39;00m filtered_tb\n",
      "File \u001b[0;32m~/miniconda3/envs/testopia/lib/python3.9/site-packages/keras/src/utils/traceback_utils.py:117\u001b[0m, in \u001b[0;36mfilter_traceback.<locals>.error_handler\u001b[0;34m(*args, **kwargs)\u001b[0m\n\u001b[1;32m    115\u001b[0m filtered_tb \u001b[38;5;241m=\u001b[39m \u001b[38;5;28;01mNone\u001b[39;00m\n\u001b[1;32m    116\u001b[0m \u001b[38;5;28;01mtry\u001b[39;00m:\n\u001b[0;32m--> 117\u001b[0m     \u001b[38;5;28;01mreturn\u001b[39;00m fn(\u001b[38;5;241m*\u001b[39margs, \u001b[38;5;241m*\u001b[39m\u001b[38;5;241m*\u001b[39mkwargs)\n\u001b[1;32m    118\u001b[0m \u001b[38;5;28;01mexcept\u001b[39;00m \u001b[38;5;167;01mException\u001b[39;00m \u001b[38;5;28;01mas\u001b[39;00m e:\n\u001b[1;32m    119\u001b[0m     filtered_tb \u001b[38;5;241m=\u001b[39m _process_traceback_frames(e\u001b[38;5;241m.\u001b[39m__traceback__)\n",
      "\u001b[0;31mTypeError\u001b[0m: predict() got an unexpected keyword argument 'timeout'"
     ]
    }
   ],
   "source": [
    "segments = controller.predict(input_path)\n",
    "\n",
    "with open(output_path, 'w') as fp:\n",
    "    fp.write('\\n'.join('{}\\t{}\\t{}'.format(round(x[0], 5), round(x[1], 5), x[2]) for x in segments))"
   ]
  },
  {
   "cell_type": "markdown",
   "metadata": {},
   "source": [
    "## Triton"
   ]
  },
  {
   "cell_type": "code",
   "execution_count": 7,
   "metadata": {},
   "outputs": [],
   "source": [
    "input_path = \"/home/lennon/workspace/audio-seg-data-synth/audio/Song.wav\"\n",
    "output_path = \"/home/lennon/workspace/audio-seg-data-synth/audio/Song-triton.txt\""
   ]
  },
  {
   "cell_type": "code",
   "execution_count": 8,
   "metadata": {},
   "outputs": [],
   "source": [
    "client = TritonClient(\"music-detection\", {\"ip\": \"0.0.0.0\", \"grpc_port\": 8101})"
   ]
  },
  {
   "cell_type": "code",
   "execution_count": 9,
   "metadata": {},
   "outputs": [
    {
     "data": {
      "text/plain": [
       "{'name': 'music-detection',\n",
       " 'versions': ['1'],\n",
       " 'platform': 'tensorflow_savedmodel',\n",
       " 'inputs': [{'name': 'mel_input',\n",
       "   'datatype': 'FP32',\n",
       "   'shape': ['-1', '802', '80']}],\n",
       " 'outputs': [{'name': 'time_distributed',\n",
       "   'datatype': 'FP32',\n",
       "   'shape': ['-1', '802', '2']}]}"
      ]
     },
     "execution_count": 9,
     "metadata": {},
     "output_type": "execute_result"
    }
   ],
   "source": [
    "client.metadata"
   ]
  },
  {
   "cell_type": "code",
   "execution_count": 10,
   "metadata": {},
   "outputs": [],
   "source": [
    "controller = MusicSpeechController(client=client, params=music_speech_params)"
   ]
  },
  {
   "cell_type": "code",
   "execution_count": 11,
   "metadata": {},
   "outputs": [
    {
     "name": "stdout",
     "output_type": "stream",
     "text": [
      "audio_clip_length_samples is 6154050\n",
      "(32, 802, 80)\n"
     ]
    }
   ],
   "source": [
    "segments = controller.predict(input_path)\n",
    "\n",
    "with open(output_path, 'w') as fp:\n",
    "    fp.write('\\n'.join('{}\\t{}\\t{}'.format(round(x[0], 5), round(x[1], 5), x[2]) for x in segments))"
   ]
  },
  {
   "cell_type": "markdown",
   "metadata": {},
   "source": [
    "## OpenVino"
   ]
  },
  {
   "cell_type": "code",
   "execution_count": 2,
   "metadata": {},
   "outputs": [],
   "source": [
    "input_path = \"/home/lennon/workspace/audio-seg-data-synth/audio/Song.wav\"\n",
    "output_path = \"/home/lennon/workspace/audio-seg-data-synth/audio/Song-openvino.txt\""
   ]
  },
  {
   "cell_type": "code",
   "execution_count": 3,
   "metadata": {},
   "outputs": [],
   "source": [
    "client = OpenVinoClient(\"music-detection\", {\"ip\": \"0.0.0.0\", \"grpc_port\": 8101})"
   ]
  },
  {
   "cell_type": "code",
   "execution_count": 4,
   "metadata": {},
   "outputs": [
    {
     "data": {
      "text/plain": [
       "{'model_version': 1,\n",
       " 'inputs': {'mel_input': {'shape': [-1, 802, 80], 'dtype': 'DT_FLOAT'}},\n",
       " 'outputs': {'functional_3_1/bidirectional_2_1/backward_gru_2_1/strided_slice_3:0': {'shape': [-1,\n",
       "    80],\n",
       "   'dtype': 'DT_FLOAT'},\n",
       "  'functional_3_1/bidirectional_3_1/backward_gru_3_1/strided_slice_1:0': {'shape': [-1,\n",
       "    160],\n",
       "   'dtype': 'DT_FLOAT'},\n",
       "  'functional_3_1/bidirectional_2_1/forward_gru_2_1/gru_cell_1/add_5:0': {'shape': [-1,\n",
       "    80],\n",
       "   'dtype': 'DT_FLOAT'},\n",
       "  'functional_3_1/bidirectional_3_1/backward_gru_3_1/strided_slice_3:0': {'shape': [-1,\n",
       "    80],\n",
       "   'dtype': 'DT_FLOAT'},\n",
       "  'functional_3_1/bidirectional_3_1/backward_gru_3_1/gru_cell_1/add_5:0': {'shape': [-1,\n",
       "    80],\n",
       "   'dtype': 'DT_FLOAT'},\n",
       "  'functional_3_1/bidirectional_2_1/forward_gru_2_1/strided_slice_1:0': {'shape': [-1,\n",
       "    1280],\n",
       "   'dtype': 'DT_FLOAT'},\n",
       "  'functional_3_1/bidirectional_2_1/backward_gru_2_1/gru_cell_1/add_5:0': {'shape': [-1,\n",
       "    80],\n",
       "   'dtype': 'DT_FLOAT'},\n",
       "  'functional_3_1/bidirectional_2_1/forward_gru_2_1/strided_slice_3:0': {'shape': [-1,\n",
       "    80],\n",
       "   'dtype': 'DT_FLOAT'},\n",
       "  'functional_3_1/bidirectional_3_1/forward_gru_3_1/strided_slice_3:0': {'shape': [-1,\n",
       "    80],\n",
       "   'dtype': 'DT_FLOAT'},\n",
       "  'functional_3_1/bidirectional_3_1/forward_gru_3_1/gru_cell_1/add_5:0': {'shape': [-1,\n",
       "    80],\n",
       "   'dtype': 'DT_FLOAT'},\n",
       "  'Identity:0': {'shape': [-1, 802, 2], 'dtype': 'DT_FLOAT'},\n",
       "  'functional_3_1/bidirectional_2_1/backward_gru_2_1/strided_slice_1:0': {'shape': [-1,\n",
       "    1280],\n",
       "   'dtype': 'DT_FLOAT'},\n",
       "  'functional_3_1/bidirectional_3_1/forward_gru_3_1/strided_slice_1:0': {'shape': [-1,\n",
       "    160],\n",
       "   'dtype': 'DT_FLOAT'}}}"
      ]
     },
     "execution_count": 4,
     "metadata": {},
     "output_type": "execute_result"
    }
   ],
   "source": [
    "client.metadata"
   ]
  },
  {
   "cell_type": "code",
   "execution_count": 5,
   "metadata": {},
   "outputs": [],
   "source": [
    "controller = MusicSpeechController(client=client, params=music_speech_params)"
   ]
  },
  {
   "cell_type": "code",
   "execution_count": 6,
   "metadata": {},
   "outputs": [
    {
     "name": "stdout",
     "output_type": "stream",
     "text": [
      "audio_clip_length_samples is 6154050\n",
      "(32, 802, 80)\n"
     ]
    }
   ],
   "source": [
    "segments = controller.predict(input_path)\n",
    "\n",
    "with open(output_path, 'w') as fp:\n",
    "    fp.write('\\n'.join('{}\\t{}\\t{}'.format(round(x[0], 5), round(x[1], 5), x[2]) for x in segments))"
   ]
  }
 ],
 "metadata": {
  "kernelspec": {
   "display_name": "keras2",
   "language": "python",
   "name": "python3"
  },
  "language_info": {
   "codemirror_mode": {
    "name": "ipython",
    "version": 3
   },
   "file_extension": ".py",
   "mimetype": "text/x-python",
   "name": "python",
   "nbconvert_exporter": "python",
   "pygments_lexer": "ipython3",
   "version": "3.9.19"
  }
 },
 "nbformat": 4,
 "nbformat_minor": 2
}
