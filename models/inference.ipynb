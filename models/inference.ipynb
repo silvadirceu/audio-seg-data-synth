{
 "cells": [
  {
   "cell_type": "code",
   "execution_count": null,
   "metadata": {},
   "outputs": [],
   "source": [
    "!pip install ../packages/hermes-0.1.tar.gz"
   ]
  },
  {
   "cell_type": "code",
   "execution_count": 1,
   "metadata": {},
   "outputs": [
    {
     "name": "stderr",
     "output_type": "stream",
     "text": [
      "2024-04-11 15:00:04.647199: I tensorflow/core/platform/cpu_feature_guard.cc:210] This TensorFlow binary is optimized to use available CPU instructions in performance-critical operations.\n",
      "To enable the following instructions: AVX2 FMA, in other operations, rebuild TensorFlow with the appropriate compiler flags.\n",
      "2024-04-11 15:00:05.270187: W tensorflow/compiler/tf2tensorrt/utils/py_utils.cc:38] TF-TRT Warning: Could not find TensorRT\n"
     ]
    }
   ],
   "source": [
    "from hermes.triton.client import TritonClient\n",
    "from hermes.openvino.client import OpenVinoClient\n",
    "from musicspeech_controller import MusicSpeechController\n",
    "from musicspeech_params import MusicSpeech_Params as music_speech_params"
   ]
  },
  {
   "cell_type": "markdown",
   "metadata": {},
   "source": [
    "## Local"
   ]
  },
  {
   "cell_type": "code",
   "execution_count": 1,
   "metadata": {},
   "outputs": [],
   "source": [
    "input_path = \"/home/lennon/workspace/audio-seg-data-synth/audio/Song.wav\"\n",
    "output_path = \"/home/lennon/workspace/audio-seg-data-synth/audio/Song-local.txt\""
   ]
  },
  {
   "cell_type": "code",
   "execution_count": 3,
   "metadata": {},
   "outputs": [
    {
     "ename": "NameError",
     "evalue": "name 'MusicSpeechController' is not defined",
     "output_type": "error",
     "traceback": [
      "\u001b[0;31m---------------------------------------------------------------------------\u001b[0m",
      "\u001b[0;31mNameError\u001b[0m                                 Traceback (most recent call last)",
      "Cell \u001b[0;32mIn[3], line 1\u001b[0m\n\u001b[0;32m----> 1\u001b[0m controller \u001b[38;5;241m=\u001b[39m \u001b[43mMusicSpeechController\u001b[49m(params\u001b[38;5;241m=\u001b[39mmusic_speech_params)\n",
      "\u001b[0;31mNameError\u001b[0m: name 'MusicSpeechController' is not defined"
     ]
    }
   ],
   "source": [
    "controller = MusicSpeechController(client=None, params=music_speech_params)"
   ]
  },
  {
   "cell_type": "markdown",
   "metadata": {},
   "source": [
    "## Triton"
   ]
  },
  {
   "cell_type": "code",
   "execution_count": 7,
   "metadata": {},
   "outputs": [],
   "source": [
    "input_path = \"/home/lennon/workspace/audio-seg-data-synth/audio/Song.wav\"\n",
    "output_path = \"/home/lennon/workspace/audio-seg-data-synth/audio/Song-triton.txt\""
   ]
  },
  {
   "cell_type": "code",
   "execution_count": 8,
   "metadata": {},
   "outputs": [],
   "source": [
    "client = TritonClient(\"music-detection\", {\"ip\": \"0.0.0.0\", \"grpc_port\": 8101})"
   ]
  },
  {
   "cell_type": "code",
   "execution_count": 9,
   "metadata": {},
   "outputs": [
    {
     "data": {
      "text/plain": [
       "{'name': 'music-detection',\n",
       " 'versions': ['1'],\n",
       " 'platform': 'tensorflow_savedmodel',\n",
       " 'inputs': [{'name': 'mel_input',\n",
       "   'datatype': 'FP32',\n",
       "   'shape': ['-1', '802', '80']}],\n",
       " 'outputs': [{'name': 'time_distributed',\n",
       "   'datatype': 'FP32',\n",
       "   'shape': ['-1', '802', '2']}]}"
      ]
     },
     "execution_count": 9,
     "metadata": {},
     "output_type": "execute_result"
    }
   ],
   "source": [
    "client.metadata"
   ]
  },
  {
   "cell_type": "code",
   "execution_count": 10,
   "metadata": {},
   "outputs": [],
   "source": [
    "controller = MusicSpeechController(client=client, params=music_speech_params)"
   ]
  },
  {
   "cell_type": "code",
   "execution_count": 11,
   "metadata": {},
   "outputs": [
    {
     "name": "stdout",
     "output_type": "stream",
     "text": [
      "audio_clip_length_samples is 6154050\n",
      "(32, 802, 80)\n"
     ]
    }
   ],
   "source": [
    "segments = controller.predict(input_path)\n",
    "\n",
    "with open(output_path, 'w') as fp:\n",
    "    fp.write('\\n'.join('{}\\t{}\\t{}'.format(round(x[0], 5), round(x[1], 5), x[2]) for x in segments))"
   ]
  },
  {
   "cell_type": "markdown",
   "metadata": {},
   "source": [
    "## OpenVino"
   ]
  },
  {
   "cell_type": "code",
   "execution_count": 2,
   "metadata": {},
   "outputs": [],
   "source": [
    "input_path = \"/home/lennon/workspace/audio-seg-data-synth/audio/Song.wav\"\n",
    "output_path = \"/home/lennon/workspace/audio-seg-data-synth/audio/Song-openvino.txt\""
   ]
  },
  {
   "cell_type": "code",
   "execution_count": 3,
   "metadata": {},
   "outputs": [],
   "source": [
    "client = OpenVinoClient(\"music-detection\", {\"ip\": \"0.0.0.0\", \"grpc_port\": 8101})"
   ]
  },
  {
   "cell_type": "code",
   "execution_count": 4,
   "metadata": {},
   "outputs": [
    {
     "data": {
      "text/plain": [
       "{'model_version': 1,\n",
       " 'inputs': {'mel_input': {'shape': [-1, 802, 80], 'dtype': 'DT_FLOAT'}},\n",
       " 'outputs': {'Identity:0': {'shape': [-1, 802, 2], 'dtype': 'DT_FLOAT'},\n",
       "  'functional_3_1/bidirectional_2_1/backward_gru_2_1/gru_cell_1/add_5:0': {'shape': [-1,\n",
       "    80],\n",
       "   'dtype': 'DT_FLOAT'},\n",
       "  'functional_3_1/bidirectional_3_1/backward_gru_3_1/gru_cell_1/add_5:0': {'shape': [-1,\n",
       "    80],\n",
       "   'dtype': 'DT_FLOAT'},\n",
       "  'functional_3_1/bidirectional_3_1/backward_gru_3_1/strided_slice_3:0': {'shape': [-1,\n",
       "    80],\n",
       "   'dtype': 'DT_FLOAT'},\n",
       "  'functional_3_1/bidirectional_2_1/forward_gru_2_1/strided_slice_3:0': {'shape': [-1,\n",
       "    80],\n",
       "   'dtype': 'DT_FLOAT'},\n",
       "  'functional_3_1/bidirectional_3_1/forward_gru_3_1/strided_slice_1:0': {'shape': [-1,\n",
       "    160],\n",
       "   'dtype': 'DT_FLOAT'},\n",
       "  'functional_3_1/bidirectional_3_1/backward_gru_3_1/strided_slice_1:0': {'shape': [-1,\n",
       "    160],\n",
       "   'dtype': 'DT_FLOAT'},\n",
       "  'functional_3_1/bidirectional_3_1/forward_gru_3_1/gru_cell_1/add_5:0': {'shape': [-1,\n",
       "    80],\n",
       "   'dtype': 'DT_FLOAT'},\n",
       "  'functional_3_1/bidirectional_2_1/backward_gru_2_1/strided_slice_1:0': {'shape': [-1,\n",
       "    1280],\n",
       "   'dtype': 'DT_FLOAT'},\n",
       "  'functional_3_1/bidirectional_3_1/forward_gru_3_1/strided_slice_3:0': {'shape': [-1,\n",
       "    80],\n",
       "   'dtype': 'DT_FLOAT'},\n",
       "  'functional_3_1/bidirectional_2_1/forward_gru_2_1/gru_cell_1/add_5:0': {'shape': [-1,\n",
       "    80],\n",
       "   'dtype': 'DT_FLOAT'},\n",
       "  'functional_3_1/bidirectional_2_1/forward_gru_2_1/strided_slice_1:0': {'shape': [-1,\n",
       "    1280],\n",
       "   'dtype': 'DT_FLOAT'},\n",
       "  'functional_3_1/bidirectional_2_1/backward_gru_2_1/strided_slice_3:0': {'shape': [-1,\n",
       "    80],\n",
       "   'dtype': 'DT_FLOAT'}}}"
      ]
     },
     "execution_count": 4,
     "metadata": {},
     "output_type": "execute_result"
    }
   ],
   "source": [
    "client.metadata"
   ]
  },
  {
   "cell_type": "code",
   "execution_count": 5,
   "metadata": {},
   "outputs": [],
   "source": [
    "controller = MusicSpeechController(client=client, params=music_speech_params)"
   ]
  },
  {
   "cell_type": "code",
   "execution_count": 6,
   "metadata": {},
   "outputs": [
    {
     "name": "stdout",
     "output_type": "stream",
     "text": [
      "audio_clip_length_samples is 6154050\n",
      "(32, 802, 80)\n"
     ]
    }
   ],
   "source": [
    "segments = controller.predict(input_path)\n",
    "\n",
    "with open(output_path, 'w') as fp:\n",
    "    fp.write('\\n'.join('{}\\t{}\\t{}'.format(round(x[0], 5), round(x[1], 5), x[2]) for x in segments))"
   ]
  }
 ],
 "metadata": {
  "kernelspec": {
   "display_name": "keras2",
   "language": "python",
   "name": "python3"
  },
  "language_info": {
   "codemirror_mode": {
    "name": "ipython",
    "version": 3
   },
   "file_extension": ".py",
   "mimetype": "text/x-python",
   "name": "python",
   "nbconvert_exporter": "python",
   "pygments_lexer": "ipython3",
   "version": "3.9.19"
  }
 },
 "nbformat": 4,
 "nbformat_minor": 2
}
