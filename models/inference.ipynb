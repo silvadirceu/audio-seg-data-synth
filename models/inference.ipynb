{
 "cells": [
  {
   "cell_type": "code",
   "execution_count": 1,
   "metadata": {},
   "outputs": [
    {
     "name": "stdout",
     "output_type": "stream",
     "text": [
      "Processing /home/lennon/workspace/audio-seg-data-synth/packages/hermes-0.1.tar.gz\n",
      "  Preparing metadata (setup.py) ... \u001b[?25ldone\n",
      "\u001b[?25hRequirement already satisfied: tritonclient in /home/lennon/miniconda3/envs/testopia/lib/python3.9/site-packages (from hermes==0.1) (2.43.0)\n",
      "Requirement already satisfied: ovmsclient in /home/lennon/miniconda3/envs/testopia/lib/python3.9/site-packages (from hermes==0.1) (2023.1)\n",
      "Requirement already satisfied: grpcio>=1.47.0 in /home/lennon/miniconda3/envs/testopia/lib/python3.9/site-packages (from ovmsclient->hermes==0.1) (1.62.1)\n",
      "Requirement already satisfied: numpy>=1.16.6 in /home/lennon/miniconda3/envs/testopia/lib/python3.9/site-packages (from ovmsclient->hermes==0.1) (1.26.4)\n",
      "Requirement already satisfied: protobuf>=3.19.4 in /home/lennon/miniconda3/envs/testopia/lib/python3.9/site-packages (from ovmsclient->hermes==0.1) (3.20.3)\n",
      "Requirement already satisfied: requests>=2.27.1 in /home/lennon/miniconda3/envs/testopia/lib/python3.9/site-packages (from ovmsclient->hermes==0.1) (2.31.0)\n",
      "Requirement already satisfied: python-rapidjson>=0.9.1 in /home/lennon/miniconda3/envs/testopia/lib/python3.9/site-packages (from tritonclient->hermes==0.1) (1.16)\n",
      "Requirement already satisfied: urllib3>=2.0.7 in /home/lennon/miniconda3/envs/testopia/lib/python3.9/site-packages (from tritonclient->hermes==0.1) (2.2.1)\n",
      "Requirement already satisfied: charset-normalizer<4,>=2 in /home/lennon/miniconda3/envs/testopia/lib/python3.9/site-packages (from requests>=2.27.1->ovmsclient->hermes==0.1) (3.3.2)\n",
      "Requirement already satisfied: idna<4,>=2.5 in /home/lennon/miniconda3/envs/testopia/lib/python3.9/site-packages (from requests>=2.27.1->ovmsclient->hermes==0.1) (3.6)\n",
      "Requirement already satisfied: certifi>=2017.4.17 in /home/lennon/miniconda3/envs/testopia/lib/python3.9/site-packages (from requests>=2.27.1->ovmsclient->hermes==0.1) (2024.2.2)\n",
      "Building wheels for collected packages: hermes\n",
      "  Building wheel for hermes (setup.py) ... \u001b[?25ldone\n",
      "\u001b[?25h  Created wheel for hermes: filename=hermes-0.1-py3-none-any.whl size=3453 sha256=19d1f99ee9415a600885d5a43ebd2fa2337e32e57c29714914b8faab7164aded\n",
      "  Stored in directory: /home/lennon/.cache/pip/wheels/62/26/ad/3afcad542b2d63dc002af3a8213046c04219d1a4d2081f77eb\n",
      "Successfully built hermes\n",
      "Installing collected packages: hermes\n",
      "Successfully installed hermes-0.1\n"
     ]
    }
   ],
   "source": [
    "!pip install ../packages/hermes-0.1.tar.gz"
   ]
  },
  {
   "cell_type": "code",
   "execution_count": 1,
   "metadata": {},
   "outputs": [
    {
     "name": "stderr",
     "output_type": "stream",
     "text": [
      "2024-04-15 08:15:01.019196: I tensorflow/core/platform/cpu_feature_guard.cc:210] This TensorFlow binary is optimized to use available CPU instructions in performance-critical operations.\n",
      "To enable the following instructions: AVX2 FMA, in other operations, rebuild TensorFlow with the appropriate compiler flags.\n",
      "2024-04-15 08:15:01.630718: W tensorflow/compiler/tf2tensorrt/utils/py_utils.cc:38] TF-TRT Warning: Could not find TensorRT\n"
     ]
    }
   ],
   "source": [
    "from hermes.triton.client import TritonClient\n",
    "from hermes.openvino.client import OpenVinoClient\n",
    "from musicspeech_class import MusicSpeechClass\n",
    "from musicspeech_controller import MusicSpeechController\n",
    "from musicspeech_params import MusicSpeech_Params as music_speech_params"
   ]
  },
  {
   "cell_type": "markdown",
   "metadata": {},
   "source": [
    "## Local"
   ]
  },
  {
   "cell_type": "code",
   "execution_count": 12,
   "metadata": {},
   "outputs": [],
   "source": [
    "input_path = \"/home/lennon/workspace/audio-seg-data-synth/audio/Song.wav\"\n",
    "output_path = \"/home/lennon/workspace/audio-seg-data-synth/audio/Song-local.txt\""
   ]
  },
  {
   "cell_type": "code",
   "execution_count": 13,
   "metadata": {},
   "outputs": [],
   "source": [
    "client = MusicSpeechClass(params=music_speech_params)"
   ]
  },
  {
   "cell_type": "code",
   "execution_count": 14,
   "metadata": {},
   "outputs": [],
   "source": [
    "controller = MusicSpeechController(client=client, params=music_speech_params)"
   ]
  },
  {
   "cell_type": "code",
   "execution_count": 15,
   "metadata": {},
   "outputs": [
    {
     "name": "stdout",
     "output_type": "stream",
     "text": [
      "audio_clip_length_samples is 6154050\n",
      "(32, 802, 80)\n",
      "\u001b[1m1/1\u001b[0m \u001b[32m━━━━━━━━━━━━━━━━━━━━\u001b[0m\u001b[37m\u001b[0m \u001b[1m6s\u001b[0m 6s/step\n",
      "\u001b[1m1/1\u001b[0m \u001b[32m━━━━━━━━━━━━━━━━━━━━\u001b[0m\u001b[37m\u001b[0m \u001b[1m5s\u001b[0m 5s/step\n"
     ]
    }
   ],
   "source": [
    "segments = controller.predict(input_path)\n",
    "\n",
    "with open(output_path, 'w') as fp:\n",
    "    fp.write('\\n'.join('{}\\t{}\\t{}'.format(round(x[0], 5), round(x[1], 5), x[2]) for x in segments))"
   ]
  },
  {
   "cell_type": "markdown",
   "metadata": {},
   "source": [
    "## Triton"
   ]
  },
  {
   "cell_type": "code",
   "execution_count": 7,
   "metadata": {},
   "outputs": [],
   "source": [
    "input_path = \"/home/lennon/workspace/audio-seg-data-synth/audio/Song.wav\"\n",
    "output_path = \"/home/lennon/workspace/audio-seg-data-synth/audio/Song-triton.txt\""
   ]
  },
  {
   "cell_type": "code",
   "execution_count": 8,
   "metadata": {},
   "outputs": [],
   "source": [
    "client = TritonClient(\"music-detection\", {\"ip\": \"0.0.0.0\", \"grpc_port\": 8101})"
   ]
  },
  {
   "cell_type": "code",
   "execution_count": 9,
   "metadata": {},
   "outputs": [
    {
     "data": {
      "text/plain": [
       "{'name': 'music-detection',\n",
       " 'versions': ['1'],\n",
       " 'platform': 'tensorflow_savedmodel',\n",
       " 'inputs': [{'name': 'mel_input',\n",
       "   'datatype': 'FP32',\n",
       "   'shape': ['-1', '802', '80']}],\n",
       " 'outputs': [{'name': 'time_distributed',\n",
       "   'datatype': 'FP32',\n",
       "   'shape': ['-1', '802', '2']}]}"
      ]
     },
     "execution_count": 9,
     "metadata": {},
     "output_type": "execute_result"
    }
   ],
   "source": [
    "client.metadata"
   ]
  },
  {
   "cell_type": "code",
   "execution_count": 10,
   "metadata": {},
   "outputs": [],
   "source": [
    "controller = MusicSpeechController(client=client, params=music_speech_params)"
   ]
  },
  {
   "cell_type": "code",
   "execution_count": 11,
   "metadata": {},
   "outputs": [
    {
     "name": "stdout",
     "output_type": "stream",
     "text": [
      "audio_clip_length_samples is 6154050\n",
      "(32, 802, 80)\n"
     ]
    }
   ],
   "source": [
    "segments = controller.predict(input_path)\n",
    "\n",
    "with open(output_path, 'w') as fp:\n",
    "    fp.write('\\n'.join('{}\\t{}\\t{}'.format(round(x[0], 5), round(x[1], 5), x[2]) for x in segments))"
   ]
  },
  {
   "cell_type": "markdown",
   "metadata": {},
   "source": [
    "## OpenVino"
   ]
  },
  {
   "cell_type": "code",
   "execution_count": 6,
   "metadata": {},
   "outputs": [],
   "source": [
    "input_path = \"/home/lennon/workspace/audio-seg-data-synth/audio/Song.wav\"\n",
    "output_path = \"/home/lennon/workspace/audio-seg-data-synth/audio/Song-openvino.txt\""
   ]
  },
  {
   "cell_type": "code",
   "execution_count": 8,
   "metadata": {},
   "outputs": [],
   "source": [
    "client = OpenVinoClient(\"music-detection\", {\"ip\": \"0.0.0.0\", \"grpc_port\": 8101})"
   ]
  },
  {
   "cell_type": "code",
   "execution_count": 9,
   "metadata": {},
   "outputs": [
    {
     "data": {
      "text/plain": [
       "{'model_version': 1,\n",
       " 'inputs': {'mel_input': {'shape': [-1, 802, 80], 'dtype': 'DT_FLOAT'}},\n",
       " 'outputs': {'functional_3_1/bidirectional_2_1/forward_gru_2_1/strided_slice_1:0': {'shape': [-1,\n",
       "    1280],\n",
       "   'dtype': 'DT_FLOAT'},\n",
       "  'functional_3_1/bidirectional_3_1/forward_gru_3_1/strided_slice_3:0': {'shape': [-1,\n",
       "    80],\n",
       "   'dtype': 'DT_FLOAT'},\n",
       "  'functional_3_1/bidirectional_3_1/backward_gru_3_1/strided_slice_1:0': {'shape': [-1,\n",
       "    160],\n",
       "   'dtype': 'DT_FLOAT'},\n",
       "  'Identity:0': {'shape': [-1, 802, 2], 'dtype': 'DT_FLOAT'},\n",
       "  'functional_3_1/bidirectional_2_1/backward_gru_2_1/gru_cell_1/add_5:0': {'shape': [-1,\n",
       "    80],\n",
       "   'dtype': 'DT_FLOAT'},\n",
       "  'functional_3_1/bidirectional_2_1/forward_gru_2_1/strided_slice_3:0': {'shape': [-1,\n",
       "    80],\n",
       "   'dtype': 'DT_FLOAT'},\n",
       "  'functional_3_1/bidirectional_3_1/forward_gru_3_1/strided_slice_1:0': {'shape': [-1,\n",
       "    160],\n",
       "   'dtype': 'DT_FLOAT'},\n",
       "  'functional_3_1/bidirectional_3_1/backward_gru_3_1/gru_cell_1/add_5:0': {'shape': [-1,\n",
       "    80],\n",
       "   'dtype': 'DT_FLOAT'},\n",
       "  'functional_3_1/bidirectional_2_1/backward_gru_2_1/strided_slice_3:0': {'shape': [-1,\n",
       "    80],\n",
       "   'dtype': 'DT_FLOAT'},\n",
       "  'functional_3_1/bidirectional_3_1/backward_gru_3_1/strided_slice_3:0': {'shape': [-1,\n",
       "    80],\n",
       "   'dtype': 'DT_FLOAT'},\n",
       "  'functional_3_1/bidirectional_2_1/forward_gru_2_1/gru_cell_1/add_5:0': {'shape': [-1,\n",
       "    80],\n",
       "   'dtype': 'DT_FLOAT'},\n",
       "  'functional_3_1/bidirectional_2_1/backward_gru_2_1/strided_slice_1:0': {'shape': [-1,\n",
       "    1280],\n",
       "   'dtype': 'DT_FLOAT'},\n",
       "  'functional_3_1/bidirectional_3_1/forward_gru_3_1/gru_cell_1/add_5:0': {'shape': [-1,\n",
       "    80],\n",
       "   'dtype': 'DT_FLOAT'}}}"
      ]
     },
     "execution_count": 9,
     "metadata": {},
     "output_type": "execute_result"
    }
   ],
   "source": [
    "client.metadata"
   ]
  },
  {
   "cell_type": "code",
   "execution_count": 10,
   "metadata": {},
   "outputs": [],
   "source": [
    "controller = MusicSpeechController(client=client, params=music_speech_params)"
   ]
  },
  {
   "cell_type": "code",
   "execution_count": 11,
   "metadata": {},
   "outputs": [
    {
     "name": "stdout",
     "output_type": "stream",
     "text": [
      "audio_clip_length_samples is 6154050\n"
     ]
    },
    {
     "name": "stdout",
     "output_type": "stream",
     "text": [
      "(32, 802, 80)\n"
     ]
    }
   ],
   "source": [
    "segments = controller.predict(input_path)\n",
    "\n",
    "with open(output_path, 'w') as fp:\n",
    "    fp.write('\\n'.join('{}\\t{}\\t{}'.format(round(x[0], 5), round(x[1], 5), x[2]) for x in segments))"
   ]
  }
 ],
 "metadata": {
  "kernelspec": {
   "display_name": "keras2",
   "language": "python",
   "name": "python3"
  },
  "language_info": {
   "codemirror_mode": {
    "name": "ipython",
    "version": 3
   },
   "file_extension": ".py",
   "mimetype": "text/x-python",
   "name": "python",
   "nbconvert_exporter": "python",
   "pygments_lexer": "ipython3",
   "version": "3.9.19"
  }
 },
 "nbformat": 4,
 "nbformat_minor": 2
}
